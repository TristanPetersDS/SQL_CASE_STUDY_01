{
 "cells": [
  {
   "cell_type": "markdown",
   "id": "2904b270-dbbd-40af-a983-88e5e6b9eef9",
   "metadata": {},
   "source": [
    "### Initializing Workspace"
   ]
  },
  {
   "cell_type": "code",
   "execution_count": 2,
   "id": "cf08d5c9-bfde-4e5c-9774-51f485fcf9a2",
   "metadata": {},
   "outputs": [],
   "source": [
    "## Imports\n",
    "from sqlalchemy import create_engine\n",
    "import pandas as pd\n",
    "\n",
    "## Creating Engine\n",
    "engine = create_engine('sqlite:///sqlite_db_pythonsqlite.db')\n",
    "con = engine.connect()"
   ]
  },
  {
   "cell_type": "markdown",
   "id": "016de52f-d1ac-4317-8d2e-7fbb358bdcd1",
   "metadata": {},
   "source": [
    "### Question 10: \n",
    "#### Produce a list of facilities with a total revenue less than 1000. The output of facility name and total revenue, sorted by revenue."
   ]
  },
  {
   "cell_type": "code",
   "execution_count": 3,
   "id": "f97ce77e-3bef-4df8-88f0-570c16db8b67",
   "metadata": {},
   "outputs": [
    {
     "name": "stdout",
     "output_type": "stream",
     "text": [
      "            name  revenue\n",
      "0   Table Tennis      180\n",
      "1  Snooker Table      240\n",
      "2     Pool Table      270\n"
     ]
    }
   ],
   "source": [
    "query_10 = \"\"\"\n",
    "SELECT f.name, \n",
    "\tSUM(CASE WHEN b.memid = 0 THEN f.guestcost * slots\n",
    "\t\t ELSE f.membercost * slots END) AS revenue\n",
    "FROM Bookings b \n",
    "INNER JOIN Facilities f \n",
    "\tUSING (facid)\n",
    "GROUP BY f.name\n",
    "HAVING revenue < 1000\n",
    "ORDER BY revenue\n",
    "\"\"\"\n",
    "\n",
    "df_10 = pd.read_sql_query(query_10, con)\n",
    "\n",
    "print(df_10)"
   ]
  },
  {
   "cell_type": "markdown",
   "id": "46b73c2c-8c3c-4685-928f-fa9eda715910",
   "metadata": {},
   "source": [
    "### Question 11:\n",
    "#### Produce a report of members and who recommended them in alphabetic surname,firstname order"
   ]
  },
  {
   "cell_type": "code",
   "execution_count": 4,
   "id": "41a2336a-df53-4071-9566-ccb8d581a9ca",
   "metadata": {},
   "outputs": [
    {
     "name": "stdout",
     "output_type": "stream",
     "text": [
      "                 member_name         recommender\n",
      "0            Bader, Florence    Stibbons, Ponder\n",
      "1                Baker, Anne    Stibbons, Ponder\n",
      "2             Baker, Timothy     Farrell, Jemima\n",
      "3                Boothe, Tim         Rownam, Tim\n",
      "4            Butters, Gerald       Smith, Darren\n",
      "5               Coplin, Joan      Baker, Timothy\n",
      "6             Crumpet, Erica        Smith, Tracy\n",
      "7                Dare, Nancy    Joplette, Janice\n",
      "8           Genting, Matthew     Butters, Gerald\n",
      "9                 Hunt, John  Purview, Millicent\n",
      "10              Jones, David    Joplette, Janice\n",
      "11            Jones, Douglas        Jones, David\n",
      "12          Joplette, Janice       Smith, Darren\n",
      "13           Mackenzie, Anna       Smith, Darren\n",
      "14             Owen, Charles       Smith, Darren\n",
      "15             Pinker, David     Farrell, Jemima\n",
      "16        Purview, Millicent        Smith, Tracy\n",
      "17         Rumney, Henrietta    Genting, Matthew\n",
      "18         Sarwin, Ramnaresh     Bader, Florence\n",
      "19               Smith, Jack       Smith, Darren\n",
      "20          Stibbons, Ponder       Tracy, Burton\n",
      "21  Worthington-Smyth, Henry        Smith, Tracy\n"
     ]
    }
   ],
   "source": [
    "query_11 = \"\"\"\n",
    "SELECT CONCAT(m.surname, ', ', m.firstname) AS member_name, CONCAT(m2.surname, ', ', m2.firstname) AS recommender\n",
    "FROM Members m\n",
    "INNER JOIN Members m2 \n",
    "\tON m.recommendedby = m2.memid \n",
    "ORDER BY m.surname, m.firstname\n",
    "\"\"\"\n",
    "\n",
    "df_11 = pd.read_sql_query(query_11, con)\n",
    "\n",
    "print(df_11)"
   ]
  },
  {
   "cell_type": "markdown",
   "id": "6666b96a-5ead-48dc-845a-d68eab873b11",
   "metadata": {},
   "source": [
    "### Question 12: \n",
    "#### Find the facilities with their usage by member, but not guests"
   ]
  },
  {
   "cell_type": "code",
   "execution_count": 5,
   "id": "1b6e43ca-b0a1-44c2-b6bc-634bee7eccc7",
   "metadata": {},
   "outputs": [
    {
     "name": "stdout",
     "output_type": "stream",
     "text": [
      "         member_name         Facility  slots_used\n",
      "0      Smith, Darren  Badminton Court         432\n",
      "1        Rownam, Tim       Pool Table         282\n",
      "2        Rownam, Tim   Massage Room 1         176\n",
      "3    Butters, Gerald   Tennis Court 1         171\n",
      "4        Boothe, Tim   Tennis Court 2         168\n",
      "..               ...              ...         ...\n",
      "197      Baker, Anne     Table Tennis           2\n",
      "198  Butters, Gerald     Table Tennis           2\n",
      "199       Hunt, John     Table Tennis           2\n",
      "200  Farrell, Jemima       Pool Table           1\n",
      "201    Owen, Charles       Pool Table           1\n",
      "\n",
      "[202 rows x 3 columns]\n"
     ]
    }
   ],
   "source": [
    "query_12 = \"\"\"\n",
    "SELECT CONCAT(m.surname, ', ', m.firstname) AS member_name, f.name AS Facility, SUM(slots) AS slots_used\n",
    "FROM Bookings b\n",
    "INNER JOIN Facilities f \n",
    "\tUSING (facid)\n",
    "INNER JOIN Members m \n",
    "\tUSING (memid)\n",
    "WHERE memid != 0\n",
    "GROUP BY f.name, m.surname, m.firstname \n",
    "ORDER BY slots_used DESC;\n",
    "\"\"\"\n",
    "\n",
    "df_12 = pd.read_sql_query(query_12, con)\n",
    "\n",
    "print(df_12)"
   ]
  },
  {
   "cell_type": "markdown",
   "id": "91f0cd72-854c-4247-856d-b47336292e6c",
   "metadata": {},
   "source": [
    "### Question 13: \n",
    "#### Find the facilities usage by month, but not guests"
   ]
  },
  {
   "cell_type": "code",
   "execution_count": 6,
   "id": "6a24a0cf-1382-4648-8586-b6780d4a3d59",
   "metadata": {},
   "outputs": [
    {
     "name": "stdout",
     "output_type": "stream",
     "text": [
      "   booking_month         facility  slots_used\n",
      "0             09  Badminton Court         507\n",
      "1             09       Pool Table         443\n",
      "2             09   Tennis Court 1         417\n",
      "3             08  Badminton Court         414\n",
      "4             09   Tennis Court 2         414\n",
      "5             09    Snooker Table         404\n",
      "6             09   Massage Room 1         402\n",
      "7             09     Table Tennis         400\n",
      "8             08   Tennis Court 2         345\n",
      "9             08   Tennis Court 1         339\n",
      "10            08   Massage Room 1         316\n",
      "11            08    Snooker Table         316\n",
      "12            08       Pool Table         303\n",
      "13            08     Table Tennis         296\n",
      "14            07   Tennis Court 1         201\n",
      "15            08     Squash Court         184\n",
      "16            09     Squash Court         184\n",
      "17            07   Massage Room 1         166\n",
      "18            07  Badminton Court         165\n",
      "19            07    Snooker Table         140\n",
      "20            07   Tennis Court 2         123\n",
      "21            07       Pool Table         110\n",
      "22            07     Table Tennis          98\n",
      "23            07     Squash Court          50\n",
      "24            09   Massage Room 2          28\n",
      "25            08   Massage Room 2          18\n",
      "26            07   Massage Room 2           8\n"
     ]
    }
   ],
   "source": [
    "query_13 = \"\"\"\n",
    "SELECT STRFTIME('%m', starttime) AS booking_month, f.name AS facility, SUM(slots) AS slots_used\n",
    "FROM Bookings b\n",
    "INNER JOIN Facilities f \n",
    "\tUSING (facid)\n",
    "WHERE memid != 0\n",
    "GROUP BY f.name, booking_month\n",
    "ORDER BY slots_used DESC;\n",
    "\"\"\"\n",
    "\n",
    "df_13 = pd.read_sql_query(query_13, con)\n",
    "\n",
    "print(df_13)"
   ]
  },
  {
   "cell_type": "code",
   "execution_count": null,
   "id": "69d143b6-33cf-4761-87e9-301f16018627",
   "metadata": {},
   "outputs": [],
   "source": []
  }
 ],
 "metadata": {
  "kernelspec": {
   "display_name": "Python 3 (ipykernel)",
   "language": "python",
   "name": "python3"
  },
  "language_info": {
   "codemirror_mode": {
    "name": "ipython",
    "version": 3
   },
   "file_extension": ".py",
   "mimetype": "text/x-python",
   "name": "python",
   "nbconvert_exporter": "python",
   "pygments_lexer": "ipython3",
   "version": "3.12.5"
  }
 },
 "nbformat": 4,
 "nbformat_minor": 5
}
